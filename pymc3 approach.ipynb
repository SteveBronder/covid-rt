{
 "cells": [
  {
   "cell_type": "markdown",
   "metadata": {},
   "source": [
    "The goal here is to follow this tutorial \n",
    "\n",
    "https://docs.pymc.io/notebooks/GLM-rolling-regression.html"
   ]
  },
  {
   "cell_type": "code",
   "execution_count": 1,
   "metadata": {},
   "outputs": [],
   "source": [
    "%matplotlib inline\n",
    "import pandas as pd\n",
    "import numpy as np\n",
    "import pymc3 as pm\n",
    "import matplotlib.pyplot as plt"
   ]
  },
  {
   "cell_type": "code",
   "execution_count": 2,
   "metadata": {},
   "outputs": [],
   "source": [
    "import os"
   ]
  },
  {
   "cell_type": "code",
   "execution_count": 3,
   "metadata": {},
   "outputs": [],
   "source": [
    "GAMMA = 1/4"
   ]
  },
  {
   "cell_type": "markdown",
   "metadata": {},
   "source": [
    "I didn't know how to do this in python, so I just exported this data frame from R. \n",
    "It is a \"rolling window\" of cumulative cases (with the window = 20).\n",
    "\n",
    "You can find it here: https://github.com/tvladeck/covid-rt/blob/pymc3-approach/nyc-series.csv"
   ]
  },
  {
   "cell_type": "code",
   "execution_count": 4,
   "metadata": {},
   "outputs": [],
   "source": [
    "nyc = pd.read_csv('~/Repos/covid-rt/nyc-series.csv')"
   ]
  },
  {
   "cell_type": "code",
   "execution_count": 5,
   "metadata": {},
   "outputs": [],
   "source": [
    "nycp1 = nyc[2:len(nyc)]\n",
    "nycm1 = nyc[1:(len(nyc)-1)]"
   ]
  },
  {
   "cell_type": "code",
   "execution_count": 6,
   "metadata": {},
   "outputs": [],
   "source": [
    "model_randomwalk = pm.Model()"
   ]
  },
  {
   "cell_type": "code",
   "execution_count": 7,
   "metadata": {},
   "outputs": [],
   "source": [
    "with model_randomwalk:\n",
    "    # std of random walk\n",
    "    sigma_theta = pm.HalfNormal('sigma_theta', sd = 0.1)\n",
    "\n",
    "    theta = pm.GaussianRandomWalk('alpha', sd=sigma_theta,\n",
    "                                  shape=len(nycp1.nyc))\n",
    "    \n",
    "    likelihood = pm.Poisson('y', mu = np.exp(theta) * nycm1.nyc, observed = nycp1.nyc)"
   ]
  },
  {
   "cell_type": "code",
   "execution_count": null,
   "metadata": {
    "scrolled": true
   },
   "outputs": [
    {
     "name": "stderr",
     "output_type": "stream",
     "text": [
      "Auto-assigning NUTS sampler...\n",
      "Initializing NUTS using jitter+adapt_diag...\n",
      "Multiprocess sampling (2 chains in 2 jobs)\n",
      "NUTS: [alpha, sigma_theta]\n",
      "Sampling 2 chains:  62%|██████▏   | 1854/3000 [00:06<00:02, 504.12draws/s]"
     ]
    }
   ],
   "source": [
    "with model_randomwalk:\n",
    "    trace_rw = pm.sample(tune=1000, cores=2,\n",
    "                         target_accept=0.9)"
   ]
  },
  {
   "cell_type": "code",
   "execution_count": null,
   "metadata": {},
   "outputs": [],
   "source": [
    "rt = trace_rw['alpha'].T / GAMMA + 1\n",
    "fig = plt.figure(figsize=(8, 6))\n",
    "ax = plt.subplot(111, xlabel='time', ylabel='rt', title='Change of rt over time.')\n",
    "ax.plot(rt, 'r', alpha=.05);"
   ]
  }
 ],
 "metadata": {
  "kernelspec": {
   "display_name": "Python 3",
   "language": "python",
   "name": "python3"
  },
  "language_info": {
   "codemirror_mode": {
    "name": "ipython",
    "version": 3
   },
   "file_extension": ".py",
   "mimetype": "text/x-python",
   "name": "python",
   "nbconvert_exporter": "python",
   "pygments_lexer": "ipython3",
   "version": "3.7.2"
  }
 },
 "nbformat": 4,
 "nbformat_minor": 4
}
